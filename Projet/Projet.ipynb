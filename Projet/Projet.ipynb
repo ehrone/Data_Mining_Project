{
 "cells": [
  {
   "cell_type": "code",
   "execution_count": null,
   "id": "c180a6d5-3831-4b09-95ad-3da5e728ad84",
   "metadata": {},
   "outputs": [],
   "source": [
    "SELECT ?gateau ?gateauLabel ?gateauDescription ?image ?origineLabel\n",
    "{\n",
    "  ?gateau wdt:P279/wdt:P31* wd:Q477248; #des pâtisseries\n",
    "           wdt:P18 ?image; #l'image\n",
    "           wdt:P495 ?origine. # l'origine du gateau\n",
    "            \n",
    "  \n",
    "SERVICE wikibase:label { bd:serviceParam wikibase:language \"en\"}\n",
    "\n",
    "}\n",
    "LIMIT 1000"
   ]
  },
  {
   "cell_type": "code",
   "execution_count": null,
   "id": "2be55221-5061-4071-be17-1d0142fd6789",
   "metadata": {},
   "outputs": [],
   "source": [
    "SELECT ?gateau ?gateauLabel ?gateauDescription ?image ?origineLabel\n",
    "{\n",
    "  ?gateau wdt:P279/wdt:P31* wd:Q5159627; #candy\n",
    "           wdt:P18 ?image; #l'image\n",
    "           wdt:P495 ?origine. # l'origine du gateau\n",
    "            \n",
    "  \n",
    "SERVICE wikibase:label { bd:serviceParam wikibase:language \"en\"}\n",
    "\n",
    "}\n",
    "LIMIT 1000"
   ]
  },
  {
   "cell_type": "code",
   "execution_count": null,
   "id": "ce8b7aea-3779-4033-9af8-3e5e8edbbeb3",
   "metadata": {},
   "outputs": [],
   "source": [
    "SELECT ?gateau ?gateauLabel ?gateauDescription ?image ?origineLabel\n",
    "{\n",
    "  ?gateau wdt:P279/wdt:P31* wd:Q1361086; #chocolatbar\n",
    "           wdt:P18 ?image; #l'image\n",
    "           wdt:P495 ?origine. # l'origine du gateau\n",
    "            \n",
    "  \n",
    "SERVICE wikibase:label { bd:serviceParam wikibase:language \"en\"}\n",
    "\n",
    "}\n",
    "LIMIT 1000\n"
   ]
  },
  {
   "cell_type": "code",
   "execution_count": null,
   "id": "938342e3-72c8-48bf-a04e-e4a330cb8790",
   "metadata": {},
   "outputs": [],
   "source": [
    "SELECT ?gateau ?gateauLabel ?gateauDescription ?image ?origineLabel\n",
    "{\n",
    "  ?gateau wdt:P279/wdt:P31* wd:Q113389225; #kouign_amann\n",
    "           wdt:P18 ?image; #l'image\n",
    "           wdt:P495 ?origine. # l'origine du gateau\n",
    "            \n",
    "  \n",
    "SERVICE wikibase:label { bd:serviceParam wikibase:language \"en\"}\n",
    "\n",
    "}\n",
    "LIMIT 1000"
   ]
  },
  {
   "cell_type": "code",
   "execution_count": null,
   "id": "9dcd0927-92b0-4d97-9d17-24edd8f7bcd6",
   "metadata": {},
   "outputs": [],
   "source": [
    "SELECT ?gateau ?gateauLabel ?gateauDescription ?image ?origineLabel\n",
    "{\n",
    "  ?gateau wdt:P279/wdt:P31* wd:Q13360264; #pie\n",
    "           wdt:P18 ?image; #l'image\n",
    "           wdt:P495 ?origine. # l'origine du gateau\n",
    "            \n",
    "  \n",
    "SERVICE wikibase:label { bd:serviceParam wikibase:language \"en\"}\n",
    "\n",
    "}\n",
    "LIMIT 1000"
   ]
  },
  {
   "cell_type": "code",
   "execution_count": null,
   "id": "70c888e0-75f8-4b35-b6b6-f3992e6fb1ca",
   "metadata": {},
   "outputs": [],
   "source": [
    "\n",
    "SELECT ?gateau ?gateauLabel ?gateauDescription ?image ?origineLabel\n",
    "{\n",
    "  ?gateau wdt:P279/wdt:P31* wd:Q26791887; #des tartes sucrées\n",
    "           wdt:P18 ?image; #l'image\n",
    "           wdt:P495 ?origine. # l'origine du gateau\n",
    "            \n",
    "  \n",
    "SERVICE wikibase:label { bd:serviceParam wikibase:language \"en\"}\n",
    "\n",
    "}\n",
    "LIMIT 1000\n",
    "\n"
   ]
  },
  {
   "cell_type": "code",
   "execution_count": 33,
   "id": "f4c5407e-0de1-4144-8efd-a26d5087cde1",
   "metadata": {},
   "outputs": [
    {
     "name": "stdout",
     "output_type": "stream",
     "text": [
      "{'image': {'type': 'uri', 'value': 'http://commons.wikimedia.org/wiki/Special:FilePath/Maids%20of%20Honour%20Cakes.jpg'}, 'gateauLabel': {'xml:lang': 'en', 'type': 'literal', 'value': 'maids of honour tart'}, 'gateauDescription': {'xml:lang': 'en', 'type': 'literal', 'value': 'traditional English baked tart'}, 'origineLabel': {'xml:lang': 'en', 'type': 'literal', 'value': 'United Kingdom'}}\n"
     ]
    }
   ],
   "source": []
  }
 ],
 "metadata": {
  "kernelspec": {
   "display_name": "Python 3",
   "language": "python",
   "name": "python3"
  },
  "language_info": {
   "codemirror_mode": {
    "name": "ipython",
    "version": 3
   },
   "file_extension": ".py",
   "mimetype": "text/x-python",
   "name": "python",
   "nbconvert_exporter": "python",
   "pygments_lexer": "ipython3",
   "version": "3.6.9"
  }
 },
 "nbformat": 4,
 "nbformat_minor": 5
}
