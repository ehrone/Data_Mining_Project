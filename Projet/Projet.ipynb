{
 "cells": [
  {
   "cell_type": "code",
   "execution_count": null,
   "id": "c180a6d5-3831-4b09-95ad-3da5e728ad84",
   "metadata": {},
   "outputs": [],
   "source": [
    "SELECT ?gateau ?gateauLabel ?gateauDescription ?image ?origine\n",
    "{\n",
    "  ?gateau wdt:P279/wdt:P31* wd:Q477248; #des pâtisseries\n",
    "           wdt:P18 ?image; #l'image\n",
    "           wdt:P495 ?origine. # l'origine du gateau\n",
    "            \n",
    "  \n",
    "SERVICE wikibase:label { bd:serviceParam wikibase:language \"en\"}\n",
    "\n",
    "}\n",
    "LIMIT 1000"
   ]
  },
  {
   "cell_type": "code",
   "execution_count": null,
   "id": "2be55221-5061-4071-be17-1d0142fd6789",
   "metadata": {},
   "outputs": [],
   "source": [
    "SELECT ?gateau ?gateauLabel ?gateauDescription ?image ?origine\n",
    "{\n",
    "  ?gateau wdt:P279/wdt:P31* wd:Q5159627; #candy\n",
    "           wdt:P18 ?image; #l'image\n",
    "           wdt:P495 ?origine. # l'origine du gateau\n",
    "            \n",
    "  \n",
    "SERVICE wikibase:label { bd:serviceParam wikibase:language \"en\"}\n",
    "\n",
    "}\n",
    "LIMIT 1000"
   ]
  },
  {
   "cell_type": "code",
   "execution_count": null,
   "id": "ce8b7aea-3779-4033-9af8-3e5e8edbbeb3",
   "metadata": {},
   "outputs": [],
   "source": [
    "SELECT ?gateau ?gateauLabel ?gateauDescription ?image ?origine\n",
    "{\n",
    "  ?gateau wdt:P279/wdt:P31* wd:Q1361086; #chocolatbar\n",
    "           wdt:P18 ?image; #l'image\n",
    "           wdt:P495 ?origine. # l'origine du gateau\n",
    "            \n",
    "  \n",
    "SERVICE wikibase:label { bd:serviceParam wikibase:language \"en\"}\n",
    "\n",
    "}\n",
    "LIMIT 1000\n"
   ]
  },
  {
   "cell_type": "code",
   "execution_count": null,
   "id": "938342e3-72c8-48bf-a04e-e4a330cb8790",
   "metadata": {},
   "outputs": [],
   "source": [
    "SELECT ?gateau ?gateauLabel ?gateauDescription ?image ?origine\n",
    "{\n",
    "  ?gateau wdt:P279/wdt:P31* wd:Q113389225; #kouign_amann\n",
    "           wdt:P18 ?image; #l'image\n",
    "           wdt:P495 ?origine. # l'origine du gateau\n",
    "            \n",
    "  \n",
    "SERVICE wikibase:label { bd:serviceParam wikibase:language \"en\"}\n",
    "\n",
    "}\n",
    "LIMIT 1000"
   ]
  },
  {
   "cell_type": "code",
   "execution_count": null,
   "id": "9dcd0927-92b0-4d97-9d17-24edd8f7bcd6",
   "metadata": {},
   "outputs": [],
   "source": [
    "SELECT ?gateau ?gateauLabel ?gateauDescription ?image ?origine\n",
    "{\n",
    "  ?gateau wdt:P279/wdt:P31* wd:Q13360264; #pie\n",
    "           wdt:P18 ?image; #l'image\n",
    "           wdt:P495 ?origine. # l'origine du gateau\n",
    "            \n",
    "  \n",
    "SERVICE wikibase:label { bd:serviceParam wikibase:language \"en\"}\n",
    "\n",
    "}\n",
    "LIMIT 1000"
   ]
  },
  {
   "cell_type": "code",
   "execution_count": null,
   "id": "70c888e0-75f8-4b35-b6b6-f3992e6fb1ca",
   "metadata": {},
   "outputs": [],
   "source": [
    "\n",
    "SELECT ?gateau ?gateauLabel ?gateauDescription ?image ?origine\n",
    "{\n",
    "  ?gateau wdt:P279/wdt:P31* wd:Q26791887; #des pâtisseries\n",
    "           wdt:P18 ?image; #l'image\n",
    "           wdt:P495 ?origine. # l'origine du gateau\n",
    "            \n",
    "  \n",
    "SERVICE wikibase:label { bd:serviceParam wikibase:language \"en\"}\n",
    "\n",
    "}\n",
    "LIMIT 1000\n",
    "\n"
   ]
  },
  {
   "cell_type": "code",
   "execution_count": 1,
   "id": "f4c5407e-0de1-4144-8efd-a26d5087cde1",
   "metadata": {},
   "outputs": [
    {
     "name": "stdout",
     "output_type": "stream",
     "text": [
      "{'image': {'type': 'uri', 'value': 'http://commons.wikimedia.org/wiki/Special:FilePath/Linzertorte.JPG'}, 'gateauLabel': {'xml:lang': 'en', 'type': 'literal', 'value': 'Linzer torte'}, 'gateauDescription': {'xml:lang': 'en', 'type': 'literal', 'value': 'Austrian pastry'}, 'origineLabel': {'xml:lang': 'en', 'type': 'literal', 'value': 'Austria'}}\n",
      "{'image': {'type': 'uri', 'value': 'http://commons.wikimedia.org/wiki/Special:FilePath/Bakewell%20tart%20on%20a%20plate.jpg'}, 'gateauLabel': {'xml:lang': 'en', 'type': 'literal', 'value': 'Bakewell tart'}, 'gateauDescription': {'xml:lang': 'en', 'type': 'literal', 'value': 'English confection consisting of a shortcrust pastry with a layer of jam and a sponge using ground almonds'}, 'origineLabel': {'xml:lang': 'en', 'type': 'literal', 'value': 'England'}}\n",
      "{'image': {'type': 'uri', 'value': 'http://commons.wikimedia.org/wiki/Special:FilePath/Bakewell%20tart%20on%20a%20plate.jpg'}, 'gateauLabel': {'xml:lang': 'en', 'type': 'literal', 'value': 'Bakewell tart'}, 'gateauDescription': {'xml:lang': 'en', 'type': 'literal', 'value': 'English confection consisting of a shortcrust pastry with a layer of jam and a sponge using ground almonds'}, 'origineLabel': {'xml:lang': 'en', 'type': 'literal', 'value': 'United Kingdom'}}\n",
      "{'image': {'type': 'uri', 'value': 'http://commons.wikimedia.org/wiki/Special:FilePath/Apple%20pie.jpg'}, 'gateauLabel': {'xml:lang': 'en', 'type': 'literal', 'value': 'apple pie'}, 'gateauDescription': {'xml:lang': 'en', 'type': 'literal', 'value': 'type of pie filled with apples'}, 'origineLabel': {'xml:lang': 'en', 'type': 'literal', 'value': 'United Kingdom'}}\n",
      "{'image': {'type': 'uri', 'value': 'http://commons.wikimedia.org/wiki/Special:FilePath/Slagroomtaart.JPG'}, 'gateauLabel': {'xml:lang': 'en', 'type': 'literal', 'value': 'cream pie'}, 'gateauDescription': {'xml:lang': 'en', 'type': 'literal', 'value': 'custard based pie'}, 'origineLabel': {'xml:lang': 'en', 'type': 'literal', 'value': 'United States of America'}}\n",
      "{'image': {'type': 'uri', 'value': 'http://commons.wikimedia.org/wiki/Special:FilePath/Closeup%20of%20tarte%20tatin%20%2813513714244%29.jpg'}, 'gateauLabel': {'xml:lang': 'en', 'type': 'literal', 'value': 'Tarte Tatin'}, 'gateauDescription': {'xml:lang': 'en', 'type': 'literal', 'value': 'Pastry with caramelised fruit that originated in France'}, 'origineLabel': {'xml:lang': 'en', 'type': 'literal', 'value': 'France'}}\n",
      "{'image': {'type': 'uri', 'value': 'http://commons.wikimedia.org/wiki/Special:FilePath/Tarte%20tatin%20a%20un%20restaurant%20del%20Tossalet%2C%20X%C3%A0bia.jpg'}, 'gateauLabel': {'xml:lang': 'en', 'type': 'literal', 'value': 'Tarte Tatin'}, 'gateauDescription': {'xml:lang': 'en', 'type': 'literal', 'value': 'Pastry with caramelised fruit that originated in France'}, 'origineLabel': {'xml:lang': 'en', 'type': 'literal', 'value': 'France'}}\n",
      "{'image': {'type': 'uri', 'value': 'http://commons.wikimedia.org/wiki/Special:FilePath/Mattentaart.JPG'}, 'gateauLabel': {'xml:lang': 'en', 'type': 'literal', 'value': 'mattentaart'}, 'gateauDescription': {'xml:lang': 'en', 'type': 'literal', 'value': 'Belgian pastry typical for the region of Geraardsbergen and Lierde'}, 'origineLabel': {'xml:lang': 'en', 'type': 'literal', 'value': 'Belgium'}}\n",
      "{'image': {'type': 'uri', 'value': 'http://commons.wikimedia.org/wiki/Special:FilePath/Pecan%20pie%2C%20November%202010.jpg'}, 'gateauLabel': {'xml:lang': 'en', 'type': 'literal', 'value': 'pecan pie'}, 'gateauDescription': {'xml:lang': 'en', 'type': 'literal', 'value': 'pie made primarily with corn syrup and pecans'}, 'origineLabel': {'xml:lang': 'en', 'type': 'literal', 'value': 'United States of America'}}\n",
      "{'image': {'type': 'uri', 'value': 'http://commons.wikimedia.org/wiki/Special:FilePath/Key%20limepie.jpg'}, 'gateauLabel': {'xml:lang': 'en', 'type': 'literal', 'value': 'key lime pie'}, 'gateauDescription': {'xml:lang': 'en', 'type': 'literal', 'value': 'pie made using Key limes'}, 'origineLabel': {'xml:lang': 'en', 'type': 'literal', 'value': 'United States of America'}}\n",
      "{'image': {'type': 'uri', 'value': 'http://commons.wikimedia.org/wiki/Special:FilePath/Pumpkin%20Pie.jpg'}, 'gateauLabel': {'xml:lang': 'en', 'type': 'literal', 'value': 'pumpkin pie'}, 'gateauDescription': {'xml:lang': 'en', 'type': 'literal', 'value': 'traditional sweet dessert'}, 'origineLabel': {'xml:lang': 'en', 'type': 'literal', 'value': 'United States of America'}}\n",
      "{'image': {'type': 'uri', 'value': 'http://commons.wikimedia.org/wiki/Special:FilePath/Wet-bottom%20Shoofly%20Pie.jpg'}, 'gateauLabel': {'xml:lang': 'en', 'type': 'literal', 'value': 'shoofly pie'}, 'gateauDescription': {'xml:lang': 'en', 'type': 'literal', 'value': 'molasses pie'}, 'origineLabel': {'xml:lang': 'en', 'type': 'literal', 'value': 'United States of America'}}\n",
      "{'image': {'type': 'uri', 'value': 'http://commons.wikimedia.org/wiki/Special:FilePath/Tarte%20aux%20myrtilles.JPG'}, 'gateauLabel': {'xml:lang': 'en', 'type': 'literal', 'value': 'blueberry pie'}, 'gateauDescription': {'xml:lang': 'en', 'type': 'literal', 'value': 'baked pastry with fruit filling'}, 'origineLabel': {'xml:lang': 'en', 'type': 'literal', 'value': 'United States of America'}}\n",
      "{'image': {'type': 'uri', 'value': 'http://commons.wikimedia.org/wiki/Special:FilePath/Mud%20pie%20%28cropped%29.JPG'}, 'gateauLabel': {'xml:lang': 'en', 'type': 'literal', 'value': 'mud pie'}, 'gateauDescription': {'xml:lang': 'en', 'type': 'literal', 'value': 'chocolate-based dessert pie'}, 'origineLabel': {'xml:lang': 'en', 'type': 'literal', 'value': 'United States of America'}}\n",
      "{'image': {'type': 'uri', 'value': 'http://commons.wikimedia.org/wiki/Special:FilePath/Une%20galette%20de%20P%C3%A9rouges%20%28tarte%20au%20sucre%29%20en%20avril%202021.jpg'}, 'gateauLabel': {'xml:lang': 'en', 'type': 'literal', 'value': 'Tarte au sucre de Pérouges'}, 'origineLabel': {'xml:lang': 'en', 'type': 'literal', 'value': 'France'}}\n",
      "{'image': {'type': 'uri', 'value': 'http://commons.wikimedia.org/wiki/Special:FilePath/G%C3%A2teau%20de%20m%C3%A9nage%2001.JPG'}, 'gateauLabel': {'xml:lang': 'en', 'type': 'literal', 'value': 'gâteau de ménage'}, 'gateauDescription': {'xml:lang': 'en', 'type': 'literal', 'value': 'simple French cake'}, 'origineLabel': {'xml:lang': 'en', 'type': 'literal', 'value': 'Kingdom of France'}}\n",
      "{'image': {'type': 'uri', 'value': 'http://commons.wikimedia.org/wiki/Special:FilePath/Tarte%20au%20vin.jpg'}, 'gateauLabel': {'type': 'literal', 'value': 'Q3515852'}, 'origineLabel': {'xml:lang': 'en', 'type': 'literal', 'value': 'Switzerland'}}\n",
      "{'image': {'type': 'uri', 'value': 'http://commons.wikimedia.org/wiki/Special:FilePath/20050101-223214%20tarte%20tropezienne.jpg'}, 'gateauLabel': {'xml:lang': 'en', 'type': 'literal', 'value': 'Tarte Tropézienne'}, 'gateauDescription': {'xml:lang': 'en', 'type': 'literal', 'value': 'French dessert pastry'}, 'origineLabel': {'xml:lang': 'en', 'type': 'literal', 'value': 'France'}}\n",
      "{'image': {'type': 'uri', 'value': 'http://commons.wikimedia.org/wiki/Special:FilePath/Tarte%20normande.jpg'}, 'gateauLabel': {'xml:lang': 'en', 'type': 'literal', 'value': 'Norman Tart'}, 'origineLabel': {'xml:lang': 'en', 'type': 'literal', 'value': 'France'}}\n",
      "{'image': {'type': 'uri', 'value': 'http://commons.wikimedia.org/wiki/Special:FilePath/Pardulas.jpg'}, 'gateauLabel': {'xml:lang': 'en', 'type': 'literal', 'value': 'pardulas'}, 'gateauDescription': {'xml:lang': 'en', 'type': 'literal', 'value': 'small Italian ricotta-based pies'}, 'origineLabel': {'xml:lang': 'en', 'type': 'literal', 'value': 'Italy'}}\n",
      "{'image': {'type': 'uri', 'value': 'http://commons.wikimedia.org/wiki/Special:FilePath/Pasticciotto%20filled%20with%20ricotta%20cheese.jpg'}, 'gateauLabel': {'xml:lang': 'en', 'type': 'literal', 'value': 'pasticciotto'}, 'gateauDescription': {'xml:lang': 'en', 'type': 'literal', 'value': 'type of filled Italian pastry'}, 'origineLabel': {'xml:lang': 'en', 'type': 'literal', 'value': 'Italy'}}\n",
      "{'image': {'type': 'uri', 'value': 'http://commons.wikimedia.org/wiki/Special:FilePath/Torta%20della%20nonna.jpg'}, 'gateauLabel': {'xml:lang': 'en', 'type': 'literal', 'value': 'torta della nonna'}, 'gateauDescription': {'xml:lang': 'en', 'type': 'literal', 'value': 'Italian pastry pie'}, 'origineLabel': {'xml:lang': 'en', 'type': 'literal', 'value': 'Italy'}}\n",
      "{'image': {'type': 'uri', 'value': 'http://commons.wikimedia.org/wiki/Special:FilePath/LatticeCrust.jpg'}, 'gateauLabel': {'xml:lang': 'en', 'type': 'literal', 'value': 'rhubarb pie'}, 'gateauDescription': {'xml:lang': 'en', 'type': 'literal', 'value': 'pie with a rhubarb filling'}, 'origineLabel': {'xml:lang': 'en', 'type': 'literal', 'value': 'United States of America'}}\n",
      "{'image': {'type': 'uri', 'value': 'http://commons.wikimedia.org/wiki/Special:FilePath/RhubarbPie.jpg'}, 'gateauLabel': {'xml:lang': 'en', 'type': 'literal', 'value': 'rhubarb pie'}, 'gateauDescription': {'xml:lang': 'en', 'type': 'literal', 'value': 'pie with a rhubarb filling'}, 'origineLabel': {'xml:lang': 'en', 'type': 'literal', 'value': 'United States of America'}}\n",
      "{'image': {'type': 'uri', 'value': 'http://commons.wikimedia.org/wiki/Special:FilePath/Lemon%20tart%20%28cropped%29.jpg'}, 'gateauLabel': {'xml:lang': 'en', 'type': 'literal', 'value': 'lemon tart'}, 'gateauDescription': {'xml:lang': 'en', 'type': 'literal', 'value': 'dessert dish'}, 'origineLabel': {'xml:lang': 'en', 'type': 'literal', 'value': 'France'}}\n",
      "{'image': {'type': 'uri', 'value': 'http://commons.wikimedia.org/wiki/Special:FilePath/Treacle%20Tart%20with%20clotted%20cream.jpg'}, 'gateauLabel': {'xml:lang': 'en', 'type': 'literal', 'value': 'Treacle tart'}, 'gateauDescription': {'xml:lang': 'en', 'type': 'literal', 'value': 'British desert'}, 'origineLabel': {'xml:lang': 'en', 'type': 'literal', 'value': 'United Kingdom'}}\n",
      "{'image': {'type': 'uri', 'value': 'http://commons.wikimedia.org/wiki/Special:FilePath/Kirsch-Vlario.jpg'}, 'gateauLabel': {'xml:lang': 'en', 'type': 'literal', 'value': 'vlaai'}, 'gateauDescription': {'xml:lang': 'en', 'type': 'literal', 'value': 'type of pie, typically from the Dutch or Belgian province of Limburg, with a bread-like dough'}, 'origineLabel': {'xml:lang': 'en', 'type': 'literal', 'value': 'Netherlands'}}\n",
      "{'image': {'type': 'uri', 'value': 'http://commons.wikimedia.org/wiki/Special:FilePath/Maids%20of%20Honour%20Cakes.jpg'}, 'gateauLabel': {'xml:lang': 'en', 'type': 'literal', 'value': 'maids of honour tart'}, 'gateauDescription': {'xml:lang': 'en', 'type': 'literal', 'value': 'traditional English baked tart'}, 'origineLabel': {'xml:lang': 'en', 'type': 'literal', 'value': 'United Kingdom'}}\n"
     ]
    }
   ],
   "source": [
    "# pip install sparqlwrapper\n",
    "# https://rdflib.github.io/sparqlwrapper/\n",
    "\n",
    "import sys\n",
    "from SPARQLWrapper import SPARQLWrapper, JSON\n",
    "\n",
    "endpoint_url = \"https://query.wikidata.org/sparql\"\n",
    "\n",
    "query = \"\"\"\n",
    "SELECT ?gateauLabel ?gateauDescription ?image ?origineLabel\n",
    "{\n",
    "  ?gateau wdt:P279/wdt:P31* wd:Q26791887; #des pâtisseries\n",
    "           wdt:P18 ?image; #l'image\n",
    "           wdt:P495 ?origine. # l'origine du gateau\n",
    "            \n",
    "  \n",
    "SERVICE wikibase:label { bd:serviceParam wikibase:language \"en\"}\n",
    "\n",
    "}\n",
    "LIMIT 1000\n",
    "\n",
    "\"\"\"\n",
    "\n",
    "\n",
    "def get_results(endpoint_url, query):\n",
    "    user_agent = \"WDQS-example Python/%s.%s\" % (sys.version_info[0], sys.version_info[1])\n",
    "    # TODO adjust user agent; see https://w.wiki/CX6\n",
    "    sparql = SPARQLWrapper(endpoint_url, agent=user_agent)\n",
    "    sparql.setQuery(query)\n",
    "    sparql.setReturnFormat(JSON)\n",
    "    return sparql.query().convert()\n",
    "\n",
    "\n",
    "results = get_results(endpoint_url, query)\n",
    "\n",
    "for result in results[\"results\"][\"bindings\"]:\n",
    "    print(result)\n"
   ]
  },
  {
   "cell_type": "code",
   "execution_count": null,
   "id": "8e5cb43e-3e78-4b27-afac-eaaa068e683e",
   "metadata": {},
   "outputs": [],
   "source": []
  }
 ],
 "metadata": {
  "kernelspec": {
   "display_name": "Python 3",
   "language": "python",
   "name": "python3"
  },
  "language_info": {
   "codemirror_mode": {
    "name": "ipython",
    "version": 3
   },
   "file_extension": ".py",
   "mimetype": "text/x-python",
   "name": "python",
   "nbconvert_exporter": "python",
   "pygments_lexer": "ipython3",
   "version": "3.6.9"
  }
 },
 "nbformat": 4,
 "nbformat_minor": 5
}
