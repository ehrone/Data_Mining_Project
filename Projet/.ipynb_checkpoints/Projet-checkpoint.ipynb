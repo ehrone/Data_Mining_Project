{
 "cells": [
  {
   "cell_type": "code",
   "execution_count": null,
   "id": "c180a6d5-3831-4b09-95ad-3da5e728ad84",
   "metadata": {},
   "outputs": [],
   "source": [
    "SELECT ?gateau ?gateauLabel ?gateauDescription ?image ?origine\n",
    "{\n",
    "  ?gateau wdt:P31 wd:Q477248; #des pâtisseries\n",
    "           wdt:P18 ?image; #l'image\n",
    "           wdt:P495 ?origine. # l'origine du gateau\n",
    "            \n",
    "  \n",
    "SERVICE wikibase:label { bd:serviceParam wikibase:language \"en\"}\n",
    "\n",
    "}\n",
    "LIMIT 1000"
   ]
  }
 ],
 "metadata": {
  "kernelspec": {
   "display_name": "Python 3",
   "language": "python",
   "name": "python3"
  },
  "language_info": {
   "codemirror_mode": {
    "name": "ipython",
    "version": 3
   },
   "file_extension": ".py",
   "mimetype": "text/x-python",
   "name": "python",
   "nbconvert_exporter": "python",
   "pygments_lexer": "ipython3",
   "version": "3.6.9"
  }
 },
 "nbformat": 4,
 "nbformat_minor": 5
}
