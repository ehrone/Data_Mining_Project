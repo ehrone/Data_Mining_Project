{
 "cells": [
  {
   "attachments": {},
   "cell_type": "markdown",
   "metadata": {},
   "source": [
    "On import les bibliotheques :"
   ]
  },
  {
   "cell_type": "code",
   "execution_count": null,
   "metadata": {},
   "outputs": [],
   "source": [
    "import sys\n",
    "from SPARQLWrapper import SPARQLWrapper, JSON\n",
    "import json\n",
    "\n",
    "from pandas import json_normalize\n",
    "import pandas as pd    \n",
    "import json\n",
    "\n",
    "import requests\n",
    "import shutil\n",
    "import os\n",
    "\n",
    "import urllib.request"
   ]
  },
  {
   "attachments": {},
   "cell_type": "markdown",
   "metadata": {},
   "source": [
    "On crée la fonction de création du JSON"
   ]
  },
  {
   "cell_type": "code",
   "execution_count": null,
   "metadata": {},
   "outputs": [],
   "source": [
    "####################################### CRÉATION JSON #################################################\n",
    "\n",
    "def get_results(endpoint_url, query):\n",
    "    user_agent = \"WDQS-example Python/%s.%s\" % (sys.version_info[0], sys.version_info[1])\n",
    "    # TODO adjust user agent; see https://w.wiki/CX6\n",
    "    sparql = SPARQLWrapper(endpoint_url, agent=user_agent)\n",
    "    sparql.setQuery(query)\n",
    "    sparql.setReturnFormat(JSON)\n",
    "    return sparql.query().convert()\n",
    "\n",
    "def crea_json():\n",
    "    endpoint_url = \"https://query.wikidata.org/sparql\"\n",
    "\n",
    "    query = \"\"\"SELECT ?gateau ?gateauLabel ?gateauDescription ?image ?origineLabel\n",
    "    {\n",
    "    ?gateau wdt:P279/wdt:P31* wd:Q477248; #des pâtisseries\n",
    "            wdt:P18 ?image; #l'image\n",
    "            wdt:P495 ?origine. # l'origine du gateau\n",
    "                \n",
    "    \n",
    "    SERVICE wikibase:label { bd:serviceParam wikibase:language \"en\"}\n",
    "\n",
    "    }\n",
    "    LIMIT 1000\"\"\"\n",
    "\n",
    "    results = get_results(endpoint_url, query)\n",
    "    dico_json ={}\n",
    "\n",
    "    for result in results[\"results\"][\"bindings\"]:\n",
    "        #print(result)\n",
    "        # on récupère le nom du gateau\n",
    "        gateau = result['gateauLabel']['value']\n",
    "        # les valeurs qui nous interessent dans notre requête\n",
    "        dico={}\n",
    "        for key, val in result.items():\n",
    "            dico[key]=val['value']\n",
    "        dico_json[gateau]=dico\n",
    "        #print(\"\\n\", gateau,'\\n')\n",
    "        #print(dico_json[gateau], '\\n')\n",
    "\n",
    "    #print(' dico json \\n')\n",
    "    #print(dico_json)\n",
    "    with open('./fichier.json', 'w') as fichier :\n",
    "        json.dump(dico_json, fichier)\n",
    "\n",
    "crea_json()"
   ]
  },
  {
   "attachments": {},
   "cell_type": "markdown",
   "metadata": {},
   "source": [
    "On télécharge nos images"
   ]
  },
  {
   "cell_type": "code",
   "execution_count": null,
   "metadata": {},
   "outputs": [],
   "source": [
    "def get_imgs():\n",
    "    # the name of the json with all the data\n",
    "    json_path=\"fichier.json\"\n",
    "    # we get the json\n",
    "    json_data = json.load(open(json_path))\n",
    "\n",
    "\n",
    "    for key, info in json_data.items():\n",
    "        #print('\\n', key,'\\n', info, '\\n')\n",
    "        name = info['gateauLabel']# the name to save the image\n",
    "        print(info['image'],\"\\n\")\n",
    "        urllib.request.urlretrieve(info['image'], \"./script_python/images/\"+name+\".jpg\")\n",
    "\n",
    "get_imgs()"
   ]
  },
  {
   "attachments": {},
   "cell_type": "markdown",
   "metadata": {},
   "source": [
    "On cherche à récupérer les méta datas de chaque images"
   ]
  },
  {
   "cell_type": "code",
   "execution_count": 15,
   "metadata": {},
   "outputs": [
    {
     "ename": "AttributeError",
     "evalue": "has_exif",
     "output_type": "error",
     "traceback": [
      "\u001b[1;31m---------------------------------------------------------------------------\u001b[0m",
      "\u001b[1;31mAttributeError\u001b[0m                            Traceback (most recent call last)",
      "Cell \u001b[1;32mIn[15], line 33\u001b[0m\n\u001b[0;32m     30\u001b[0m         \u001b[39mprint\u001b[39m( data,\u001b[39m\"\u001b[39m\u001b[39m\\n\u001b[39;00m\u001b[39m\"\u001b[39m)\n\u001b[0;32m     31\u001b[0m     \u001b[39mreturn\u001b[39;00m dico_metadata\n\u001b[1;32m---> 33\u001b[0m recup_matadata_img(\u001b[39m\"\u001b[39;49m\u001b[39mimages/Alexandertorte.jpg\u001b[39;49m\u001b[39m\"\u001b[39;49m)\n",
      "Cell \u001b[1;32mIn[15], line 12\u001b[0m, in \u001b[0;36mrecup_matadata_img\u001b[1;34m(path)\u001b[0m\n\u001b[0;32m      7\u001b[0m \u001b[39m# the image's path\u001b[39;00m\n\u001b[0;32m      8\u001b[0m \u001b[39m#path =\"\"\u001b[39;00m\n\u001b[0;32m      9\u001b[0m \n\u001b[0;32m     10\u001b[0m \u001b[39m# reading the image\u001b[39;00m\n\u001b[0;32m     11\u001b[0m image \u001b[39m=\u001b[39m Image\u001b[39m.\u001b[39mopen(path)\n\u001b[1;32m---> 12\u001b[0m \u001b[39mprint\u001b[39m(image\u001b[39m.\u001b[39;49mhas_exif())\n\u001b[0;32m     13\u001b[0m \u001b[39m#extracting the data\u001b[39;00m\n\u001b[0;32m     14\u001b[0m exifdata \u001b[39m=\u001b[39m image\u001b[39m.\u001b[39mgetexif()\n",
      "File \u001b[1;32m~\\AppData\\Local\\Packages\\PythonSoftwareFoundation.Python.3.10_qbz5n2kfra8p0\\LocalCache\\local-packages\\Python310\\site-packages\\PIL\\Image.py:529\u001b[0m, in \u001b[0;36mImage.__getattr__\u001b[1;34m(self, name)\u001b[0m\n\u001b[0;32m    527\u001b[0m     deprecate(\u001b[39m\"\u001b[39m\u001b[39mImage categories\u001b[39m\u001b[39m\"\u001b[39m, \u001b[39m10\u001b[39m, \u001b[39m\"\u001b[39m\u001b[39mis_animated\u001b[39m\u001b[39m\"\u001b[39m, plural\u001b[39m=\u001b[39m\u001b[39mTrue\u001b[39;00m)\n\u001b[0;32m    528\u001b[0m     \u001b[39mreturn\u001b[39;00m \u001b[39mself\u001b[39m\u001b[39m.\u001b[39m_category\n\u001b[1;32m--> 529\u001b[0m \u001b[39mraise\u001b[39;00m \u001b[39mAttributeError\u001b[39;00m(name)\n",
      "\u001b[1;31mAttributeError\u001b[0m: has_exif"
     ]
    }
   ],
   "source": [
    "from PIL import Image\n",
    "from PIL.ExifTags import TAGS \n",
    "#from exif import Image\n",
    "\n",
    "def recup_matadata_img(path):\n",
    "    dico_metadata ={}\n",
    "    # the image's path\n",
    "    #path =\"\"\n",
    "\n",
    "    # reading the image\n",
    "    image = Image.open(path)\n",
    "   \n",
    "    #extracting the data\n",
    "    exifdata = image.getexif()\n",
    "    \n",
    "    print(exifdata)\n",
    "    # we need the human redeable tags for the data, we get them with the function TAGS.get(id, id)\n",
    "    for tag_id in exifdata:\n",
    "        # we get the tag name\n",
    "        tag = TAGS.get(tag_id, tag_id)# the human redeable tag\n",
    "        data = exifdata.get(tag_id)# the value of the tag\n",
    "\n",
    "        # decoding the tags data\n",
    "        if isinstance(data, bytes):\n",
    "            data = data.decode()\n",
    "        \n",
    "        # we add that into the dictionnary\n",
    "        dico_metadata[tag]= data\n",
    "        print(\"tag : \", tag,\"\\n\")\n",
    "        print( data,\"\\n\")\n",
    "    return dico_metadata\n",
    "\n",
    "recup_matadata_img(\"images/Alexandertorte.jpg\")"
   ]
  },
  {
   "attachments": {},
   "cell_type": "markdown",
   "metadata": {},
   "source": [
    "On cherche à sauvegarder ces datas"
   ]
  },
  {
   "cell_type": "code",
   "execution_count": null,
   "metadata": {},
   "outputs": [],
   "source": [
    "import csv\n",
    "\n",
    "def save_meta_data(path, indice):\n",
    "\n",
    "    with open('meta_data.csv', 'w') as file:\n",
    "        writer_obj=csv.writer(file)\n",
    "\n",
    "        #for i in range(c.count_files('images')):# counting the number of images we have\n",
    "\n",
    "        dico = recup.recup_matadata_img(path)#getting the meta_datas of the image\n",
    "        header, values = [], []\n",
    "\n",
    "        for key, value in dico.items():# the values to write into our csv file\n",
    "                header.append(key)\n",
    "                values.append(value)\n",
    "            \n",
    "        if indice ==0 :# we set the header of the file if it is the first call \n",
    "            writer_obj.writerows([ header, values ])# we save it in the csv file\n",
    "\n",
    "        else :\n",
    "            writer_obj.writerow(values)\n",
    "\n",
    "save_meta_data(\"./script_python/images/Alexandertorte.jpg\",0)"
   ]
  }
 ],
 "metadata": {
  "kernelspec": {
   "display_name": "Python 3",
   "language": "python",
   "name": "python3"
  },
  "language_info": {
   "codemirror_mode": {
    "name": "ipython",
    "version": 3
   },
   "file_extension": ".py",
   "mimetype": "text/x-python",
   "name": "python",
   "nbconvert_exporter": "python",
   "pygments_lexer": "ipython3",
   "version": "3.10.10"
  },
  "orig_nbformat": 4
 },
 "nbformat": 4,
 "nbformat_minor": 2
}
